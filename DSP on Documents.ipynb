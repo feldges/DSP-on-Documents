{
 "cells": [
  {
   "cell_type": "markdown",
   "id": "a1d8edde",
   "metadata": {},
   "source": [
    "# Document Understanding with the DSP framework, using Stanford state-of-the-art search engine. All on CPU."
   ]
  },
  {
   "cell_type": "markdown",
   "id": "9362556c",
   "metadata": {},
   "source": [
    "## Introduction"
   ]
  },
  {
   "cell_type": "markdown",
   "id": "586b8bb6",
   "metadata": {},
   "source": [
    "In this article, we illustrate how to apply the DSP (\"Demonstrate-Search-Predict\") framework and its corresponding Python library, that were developed by the Stanford University (https://arxiv.org/abs/2212.14024), to a \"document understanding\" use case. In the original demo, the framework has been applied to Wikipedia. In this article we apply it to our own document (a pdf). We chose a legal document (an ideal candidate because there is a lot of text). But you should be able to apply this to any of your documents.\n",
    "\n",
    "This article is an extract from a Jupyter Notebook, which is available in GitHub (https://github.com/feldges/DSP-on-Documents). For more user-friendly use (especially for non-technical people), there is a Streamlit version of it (https://github.com/feldges/DSP-on-Documents/blob/main/DSP%20on%20Documents%20Streamlit.py).\n",
    "\n",
    "We build an end-to-end demo, going through the whole process:\n",
    "First we need to prepare the data:\n",
    "- Text extraction and \"chunking\"\n",
    "- Text indexing\n",
    "\n",
    "Then we can demonstrate, search and predict with the following steps:\n",
    "- Demonstrate (optional in our case)\n",
    "- Search (information retrieval)\n",
    "- Predict\n",
    "\n",
    "For this work we use the DSP framework and Stanford's state-of-the-art search engine (or information retrieval engine), which is ColBERTv2. Fortunately, both tools were made open source, thanks a lot to authors for that!\n",
    "\n",
    "These are a bit abstract for the moment. Let's jump into the example to see how this looks like in practice. Stay tuned, it is very easy!\n",
    "\n",
    "The file we will use for this exercice is the Swiss Constitution (which can be downloaded from: https://www.fedlex.admin.ch/eli/cc/1999/404/en). We use the English version, because the search engine ColBERTv2 has been trained on English documents only.\n",
    "\n",
    "This "
   ]
  },
  {
   "cell_type": "markdown",
   "id": "66543f65",
   "metadata": {},
   "source": [
    "## Text extraction"
   ]
  },
  {
   "cell_type": "markdown",
   "id": "9e59251d",
   "metadata": {},
   "source": [
    "If you are familiar with text extraction for pdf files, you can ignore this part and jump to the next section.\n",
    "\n",
    "The goal of the text extraction is to split the text into chunks (or passages) that are aggregated in a relevant manner. \"Relevant\" is not precisely defined, but let's think what makes sense. First, let's think ahead: the passages will be injected as context to a Large Language Model. This means, the size must be limited, due to the limitation of the current language models. And the passages should be split in a way that makes sense. For example, a sentence should not be split in the middle. The way we decide to split the passages is to split them by legal article. In addition, it is important to understand that the title, section, chapter, and article names might be important (sort of metadata), and not only the text. It is why, when we create the passages, we also inject the title, section, chapter, and article names with it. You can see more details below, on how we did it.\n",
    "\n",
    "Now we know what we want. Is the implementation simple? Unfortunately not. Looking at the pdf document, we see that there is text all over the place! Headers, footnotes, ... \n",
    "\n",
    "So let's dive into it. There are many libraries that allow text extraction in Python, many of which are very similar, but yet different. The library langchain also offers a wrapper around many of these libraries. But instead of using langchain, we will use the original library, PyMuPDF, because it offers more flexibility.\n",
    "\n",
    "We will put special care for this step. Unfortunately this step is typically customized to the document we are using, and a generalization of this extraction to any pdf files can be painful. But still, we make the extra effort to have a clean text extraction, since it is key to get good results for our search engine. You can have the best search engine (which we have in this example!), but if you provide it with poor quality data, you will get poor results.\n",
    "\n",
    "Let's start with getting the necessary libraries and provide the path to the file we want to analyze, and let's open the document:"
   ]
  },
  {
   "cell_type": "code",
   "execution_count": 1,
   "id": "e0d10987",
   "metadata": {},
   "outputs": [],
   "source": [
    "import fitz # If not yet installed, run \"pip install PyMuPDF\""
   ]
  },
  {
   "cell_type": "code",
   "execution_count": 3,
   "id": "4196cfc7",
   "metadata": {},
   "outputs": [],
   "source": [
    "filepath=\"docs/swiss_constitution.pdf\" # Path to your document\n",
    "doc = fitz.open(filepath)"
   ]
  },
  {
   "cell_type": "markdown",
   "id": "edf95ca2",
   "metadata": {},
   "source": [
    "Then, instead of extracting a plain-vanilla text, we will extract blocks and collate them together. The reason is that the blocks are smaller parts of text, and their extraction returns metadata like position (x, y), the font type and size. This is important information for us, for the extraction process.\n",
    "\n",
    "In addition to the metadata related to the blocks, we also use regular expressions. Looking at the text, a Chapter is always called \"Chapter XX\", etc. We use this to extract the text as described above.\n",
    "\n",
    "To illustrate how we use the blocks components of the library PyMuPDF, let's look at the metadata below. The data below is for the block 5 of page 1 of the document."
   ]
  },
  {
   "cell_type": "code",
   "execution_count": 6,
   "id": "a905f1fb",
   "metadata": {},
   "outputs": [
    {
     "data": {
      "text/plain": [
       "{'number': 5,\n",
       " 'type': 0,\n",
       " 'bbox': (34.02000045776367,\n",
       "  102.75997924804688,\n",
       "  342.2460632324219,\n",
       "  122.74679565429688),\n",
       " 'lines': [{'spans': [{'size': 6.480000019073486,\n",
       "     'flags': 4,\n",
       "     'font': 'TimesNewRomanPSMT',\n",
       "     'color': 0,\n",
       "     'ascender': 0.89111328125,\n",
       "     'descender': -0.21630859375,\n",
       "     'text': '4',\n",
       "     'origin': (34.02000045776367, 108.80001831054688),\n",
       "     'bbox': (34.02000045776367,\n",
       "      103.02560424804688,\n",
       "      37.26000213623047,\n",
       "      110.20169830322266)},\n",
       "    {'size': 9.0,\n",
       "     'flags': 4,\n",
       "     'font': 'TimesNewRomanPSMT',\n",
       "     'color': 0,\n",
       "     'ascender': 0.89111328125,\n",
       "     'descender': -0.21630859375,\n",
       "     'text': ' It is committed to the long term preservation of natural resources and to a just and ',\n",
       "     'origin': (37.2599983215332, 110.77999877929688),\n",
       "     'bbox': (37.2599983215332,\n",
       "      102.75997924804688,\n",
       "      342.2460632324219,\n",
       "      112.72677612304688)}],\n",
       "   'wmode': 0,\n",
       "   'dir': (1.0, 0.0),\n",
       "   'bbox': (34.02000045776367,\n",
       "    102.75997924804688,\n",
       "    342.2460632324219,\n",
       "    112.72677612304688)},\n",
       "  {'spans': [{'size': 9.0,\n",
       "     'flags': 4,\n",
       "     'font': 'TimesNewRomanPSMT',\n",
       "     'color': 0,\n",
       "     'ascender': 0.89111328125,\n",
       "     'descender': -0.21630859375,\n",
       "     'text': 'peaceful international order. ',\n",
       "     'origin': (34.02000045776367, 120.80001831054688),\n",
       "     'bbox': (34.02000045776367,\n",
       "      112.77999877929688,\n",
       "      137.99000549316406,\n",
       "      122.74679565429688)}],\n",
       "   'wmode': 0,\n",
       "   'dir': (1.0, 0.0),\n",
       "   'bbox': (34.02000045776367,\n",
       "    112.77999877929688,\n",
       "    137.99000549316406,\n",
       "    122.74679565429688)}]}"
      ]
     },
     "execution_count": 6,
     "metadata": {},
     "output_type": "execute_result"
    }
   ],
   "source": [
    "p=1 # You can change this number to visualize another page\n",
    "b=5 # You can change this number to visualize another block of the page\n",
    "blocks = doc[p].get_text(\"dict\", flags=11)[\"blocks\"]\n",
    "blocks[b]"
   ]
  },
  {
   "cell_type": "markdown",
   "id": "309e3b49",
   "metadata": {},
   "source": [
    "For each line in the block, it returns the font size, the font type, the color, and a flag, describing if the text is bold, itallic, ... It also shows the coordinates (x,y) of where the text starts (top-left), and where it ends (bottom-right).\n",
    "\n",
    "This information leads us to define the following text extraction, for which we show an extract at the end:"
   ]
  },
  {
   "cell_type": "code",
   "execution_count": 7,
   "id": "9ee2af41",
   "metadata": {},
   "outputs": [
    {
     "name": "stdout",
     "output_type": "stream",
     "text": [
      "rn, Lucerne, Uri, Schwyz, Obwalden and Nidwalden, Glarus, Zug, Fribourg, Solothurn, Basel Stadt and Basel Landschaft, Schaffhausen, Appenzell Ausserrhoden and Appenzell Innerrhoden, St. Gallen, Grau-bünden, Aargau, Thurgau, Ticino, Vaud, Valais, Neuchâtel, Geneva, and Jura form the Swiss Confederation. \n",
      "|Title 1 General Provisions|||Art. 2  Aims|1 The Swiss Confederation shall protect the liberty and rights of the people and safe-guard the independence and security of the country. 2 It shall promote the common welfare, sustainable development, internal cohesion and cultural diversity of the country. 3 It shall ensure the greatest possible equality of opportunity among its citizens. 4 It is committed to the long term preservation of natural resources and to a just and peaceful international order. \n",
      "|Title 1 General Provisions|||Art. 3 Cantons|The Cantons are sovereign except to the extent that their sovereignty is limited by the Federal Constitution. They exercise all rights that are not vested in the Confederation. \n",
      "|Title 1 General Provisions|||Art. 4 National languages|The National Languages are German, French, Italian, and Romansh. \n",
      "|Title 1 General Provisions|||Art. 5 Rule of law|1 All activities of the state are based on and limited by law. 2 State activities must be conducted in the public interest and be proportionate to the ends sought. 3 State institutions and private persons shall act in good faith. 4 The Confederation and the Cantons shall respect international law. \n",
      "|Title 1 General Provisions|||Art. 5 a|2\n",
      "|Title 1 General Provisions|||Art. 5 a  Subsidiarity|The principle of subsidiarity must be observed in the allocation and performance of state tasks. \n",
      "|Title 1 General Provisions|||Art. 6 Individual and collective responsibility|All individuals shall take responsibility for themselves and shall, according to their abilities, contribute to achieving the tasks of the state and society.  \n",
      "|Title 2 Fundamental Rights, Citizenship and Social Goals|Chapter 1\n"
     ]
    }
   ],
   "source": [
    "# Initialization\n",
    "t = ''\n",
    "title=\"\"\n",
    "old_title=\"\"\n",
    "chapter=\"\"\n",
    "old_chapter=\"\"\n",
    "section=\"\"\n",
    "old_section=\"\"\n",
    "article=\"\"\n",
    "old_article=\"\"\n",
    "paragraph=\"\"\n",
    "break_loop=False\n",
    "# Loop on pages of the document\n",
    "for p in doc:\n",
    "    blocks = p.get_text(\"dict\", flags=11)[\"blocks\"]\n",
    "    title_y=0.0\n",
    "    chapter_y=0.0\n",
    "    section_y=0.0\n",
    "    article_y=0.0\n",
    "    # Loop on blocks of a page\n",
    "    for b in blocks:  # iterate through the text blocks\n",
    "        if break_loop==True:\n",
    "            break\n",
    "        for l in b[\"lines\"]:  # iterate through the text lines\n",
    "            if break_loop==True:\n",
    "                break\n",
    "            for s in l[\"spans\"]:  # iterate through the text spans\n",
    "                # Ignore header\n",
    "                if s[\"bbox\"][3]<50:\n",
    "                    break\n",
    "                # Ignore footer\n",
    "                if s[\"bbox\"][1]>500:\n",
    "                    break\n",
    "                # Ignore smallest text (like reference to a footnote)\n",
    "                if s[\"size\"]<6.5 and not(s[\"text\"].isnumeric()):\n",
    "                    break\n",
    "                # Content page at the end of the document is noise for the search, we remove it\n",
    "                if s[\"text\"].strip()==\"Contents\" and s[\"size\"]>10 and s[\"flags\"]==20:\n",
    "                    break_loop=True\n",
    "                    break\n",
    "                # Get title\n",
    "                if s[\"bbox\"][1]==title_y and s[\"text\"]!=\"\":\n",
    "                    title+=\" \"+s[\"text\"].strip()\n",
    "                # Get title if on a new line\n",
    "                elif s[\"text\"][:6]==\"Title \":\n",
    "                    title = s[\"text\"].strip()\n",
    "                    title_y = s[\"bbox\"][1]\n",
    "                # Get chapter\n",
    "                elif s[\"bbox\"][1]==chapter_y and s[\"text\"]!=\"\":\n",
    "                    chapter+=\" \"+s[\"text\"].strip()\n",
    "                # Get chapter if on a new line\n",
    "                elif s[\"text\"][:8]==\"Chapter \":\n",
    "                    chapter = s[\"text\"].strip()\n",
    "                    chapter_y = s[\"bbox\"][1]\n",
    "                # Get section\n",
    "                elif s[\"bbox\"][1]==section_y and s[\"text\"]!=\"\":\n",
    "                    section+=\" \"+s[\"text\"].strip()\n",
    "                # Get section if on a new line\n",
    "                elif s[\"text\"][:8]==\"Section \" and s[\"flags\"]==20:\n",
    "                    section=s[\"text\"].strip()\n",
    "                    section_y = s[\"bbox\"][1]\n",
    "                # Get article\n",
    "                elif s[\"bbox\"][1]==article_y and s[\"text\"]!=\"\":\n",
    "                    article+=\" \"+s[\"text\"].strip()\n",
    "                # Get article if on a new line\n",
    "                elif s[\"text\"][:5]==\"Art. \" and s[\"flags\"]==20:\n",
    "                    article=s[\"text\"].strip()\n",
    "                    article_y = s[\"bbox\"][1]\n",
    "                # Get paragraph\n",
    "                #elif s[\"size\"]<6.5 and s[\"text\"].isnumeric():\n",
    "                #    paragraph=\"Paragraph \"+s[\"text\"]\n",
    "                else:\n",
    "                # For any new article, creates a new piece of text, including title, chapter, section article in the header of this piece of text.\n",
    "                    if old_article!=article:\n",
    "                        t+=\"\\n\"\n",
    "                        t+=\"|\"+title+\"|\"+chapter+\"|\"+section+\"|\"+article+\"|\"\n",
    "                    t+=s[\"text\"]\n",
    "                    old_article=article\n",
    "print(t[1000:3000]) # You can change these numbers to visualize another part of the output"
   ]
  },
  {
   "cell_type": "markdown",
   "id": "de721afe",
   "metadata": {},
   "source": [
    "We are almost there :-)\n",
    "The text is ready to be exported to the search engine. ColBERTv2 requires the input text to be in a tsv file (tab separated file):"
   ]
  },
  {
   "cell_type": "code",
   "execution_count": 40,
   "id": "70b3aff0",
   "metadata": {},
   "outputs": [],
   "source": [
    "import csv\n",
    "# t contains all the passages we need. Let's split it and put it in a tsv file\n",
    "stext = t.split('\\n')\n",
    "with open('docs/CollectionsSwissConstitution.tsv', 'wt') as out_file:\n",
    "    tsv_writer = csv.writer(out_file, delimiter='\\t')\n",
    "    i=0\n",
    "    for tex in stext:\n",
    "        tsv_writer.writerow([i, tex])\n",
    "        i+=1"
   ]
  },
  {
   "cell_type": "markdown",
   "id": "f5389aa4",
   "metadata": {},
   "source": [
    "## Text indexing"
   ]
  },
  {
   "cell_type": "markdown",
   "id": "2b2d0785",
   "metadata": {},
   "source": [
    "Our text is ready, and in the right format! The next step consists of indexing it, that means we need to convert it into a format that will allow the search engine to find the relevant text for a given question (or query). This is tightly related to the search engine we will use.\n",
    "\n",
    "We will use a state-of-the-art search engine that has been developed by the University of Stanford (https://arxiv.org/abs/2112.01488). The search engine is called ColBERTv2 and is open source (https://github.com/stanford-futuredata/ColBERT). To index the document for this specific search engine, we will first download the ColBERTv2 repo from GitHub and install it. For the installation, follow closely the instructions provided in the GitHub repo.\n",
    "\n",
    "Once ColBERTv2 is installed on your machine, you can use it with to index your passages using the Python code below. Note that we strictly follow the original library, which has a very well explained notebook: https://github.com/stanford-futuredata/ColBERT/blob/main/docs/intro.ipynb. Instead of using a Jupyter Notebook, we did it in PyCharm. But you can also do it in Jupyter Notebook."
   ]
  },
  {
   "cell_type": "code",
   "execution_count": null,
   "id": "4a29f77e",
   "metadata": {},
   "outputs": [],
   "source": [
    "from colbert.infra import Run, RunConfig, ColBERTConfig\n",
    "from colbert import Indexer\n",
    "\n",
    "with Run().context(RunConfig(nranks=1, experiment=\"SwissConstitution\")):\n",
    "    config = ColBERTConfig(nbits=2)\n",
    "\n",
    "    indexer = Indexer(checkpoint=\"modelcheckpoints/colbertv2.0\", config=config)\n",
    "    indexer.index(name=\"SwissConstitution.2bits\", collection=\"data/collections/CollectionsSwissConstitution.tsv\", overwrite=False)"
   ]
  },
  {
   "cell_type": "markdown",
   "id": "da3b249e",
   "metadata": {},
   "source": [
    "This needs some explanations:\n",
    "- The \"experiment\" will create a folder with this name, under which all queries and query results will be logged\n",
    "- The indexer needs the colbertv2.0 model checkpoint, which is the model that has been trained (by the original authors)\n",
    "- The index name is the name of the index you are creating. You will find the indexed passages under this folder.\n",
    "- The collection is the raw passages that we have prepared in the previous step (data extraction). You need to put this file in the folder ColBERT/colbert/data (or adjust the link above)\n",
    "\n",
    "Note that the indexing will take time. What it will do: it will let each passage be encoded by a BERT model. The outputs of all these passages (one output vector for each token of each passage) will go through an algorithm that will group them into clusters. Each token will then be re-defined as the cluster it belongs to, plus its distance from the center of this cluster. This work will require some computation time. For this document, it takes around 2 minutes on my computer (which is an iMac 2015 with an i5 CPU). Using GPUs would make this process much faster.\n",
    "\n",
    "Before we can start using the search engine in the DSP framework, we need to \"activate\" the search engine for this indexed data. For this we will activate a web-service and use the search engine as an API. This is available directly from the original code for ColBERTv2, in the file server.py. You will have to adjust the file to your index_name and index_path. Then to \"activate\" it you will have to run this file."
   ]
  },
  {
   "cell_type": "markdown",
   "id": "ce07731c",
   "metadata": {},
   "source": [
    "## Information Retrieval"
   ]
  },
  {
   "cell_type": "markdown",
   "id": "816da001",
   "metadata": {},
   "source": [
    "The text has been extracted, \"chunkenized\", and indexed. Now it is time to search for passages! Before we move to the DSP framework, let's test this search (or information retrieval) on its own. To get this done, we need to activate ColBERTv2 as an API (as described above), so that the API is active and ready to be queries. Once it is active, let's use it!"
   ]
  },
  {
   "cell_type": "code",
   "execution_count": 8,
   "id": "970c7a1e",
   "metadata": {},
   "outputs": [],
   "source": [
    "import requests\n",
    "colbert_server = 'http://127.0.0.1:8893/api/search' # You might have a different URL!"
   ]
  },
  {
   "cell_type": "code",
   "execution_count": 34,
   "id": "3e7d1acd",
   "metadata": {},
   "outputs": [],
   "source": [
    "query=\"Is it legal to speak Spanish?\" # Your question to the document\n",
    "k=3 # The API returns the top k most relevant entries\n",
    "\n",
    "payload = {\"query\": query, \"k\": k} # The content that we push to the API\n",
    "\n",
    "result = requests.get(colbert_server, params=payload) # What the API returns\n",
    "output = result.json()\n",
    "topk = output['topk'][:k] # Extracting the result\n",
    "topk_text = [k['text'] for k in topk] # Extracting the text only"
   ]
  },
  {
   "cell_type": "code",
   "execution_count": 35,
   "id": "231bec4a",
   "metadata": {},
   "outputs": [
    {
     "data": {
      "text/plain": [
       "{'query': 'Is it legal to speak Spanish?',\n",
       " 'topk': [{'pid': 0,\n",
       "   'prob': 0.7640150527471495,\n",
       "   'rank': 1,\n",
       "   'score': 12.913446426391602,\n",
       "   'text': 'English is not an official language of the Swiss Confederation. This translation is provided for information purposes only and has no legal force. Federal Constitution  of the Swiss Confederation  of 18 April 1999 (Status as of 13 February 2022)  Preamble In the name of Almighty God! The Swiss People and the Cantons, mindful of their responsibility towards creation, resolved to renew their alliance so as to strengthen liberty, democracy, independence and peace in a spirit of solidarity and openness towards the world, determined to live together with mutual consideration and respect for their diversity, conscious of their common achievements and their responsibility towards future ge-nerations, and in the knowledge that only those who use their freedom remain free, and that the strength of a people is measured by the well-being of its weakest members, adopt the following Constitution1:'},\n",
       "  {'pid': 22,\n",
       "   'prob': 0.11799247362642523,\n",
       "   'rank': 2,\n",
       "   'score': 11.045479774475098,\n",
       "   'text': '|Title 2 Fundamental Rights, Citizenship and Social Goals|Chapter 1 Fundamental Rights||Art. 18 Freedom to use any language|The freedom to use any language is guaranteed.'},\n",
       "  {'pid': 22,\n",
       "   'prob': 0.11799247362642523,\n",
       "   'rank': 3,\n",
       "   'score': 11.045479774475098,\n",
       "   'text': '|Title 2 Fundamental Rights, Citizenship and Social Goals|Chapter 1 Fundamental Rights||Art. 18 Freedom to use any language|The freedom to use any language is guaranteed.'}]}"
      ]
     },
     "execution_count": 35,
     "metadata": {},
     "output_type": "execute_result"
    }
   ],
   "source": [
    "output"
   ]
  },
  {
   "cell_type": "code",
   "execution_count": 36,
   "id": "82083555",
   "metadata": {},
   "outputs": [
    {
     "data": {
      "text/plain": [
       "[{'pid': 0,\n",
       "  'prob': 0.7640150527471495,\n",
       "  'rank': 1,\n",
       "  'score': 12.913446426391602,\n",
       "  'text': 'English is not an official language of the Swiss Confederation. This translation is provided for information purposes only and has no legal force. Federal Constitution  of the Swiss Confederation  of 18 April 1999 (Status as of 13 February 2022)  Preamble In the name of Almighty God! The Swiss People and the Cantons, mindful of their responsibility towards creation, resolved to renew their alliance so as to strengthen liberty, democracy, independence and peace in a spirit of solidarity and openness towards the world, determined to live together with mutual consideration and respect for their diversity, conscious of their common achievements and their responsibility towards future ge-nerations, and in the knowledge that only those who use their freedom remain free, and that the strength of a people is measured by the well-being of its weakest members, adopt the following Constitution1:'},\n",
       " {'pid': 22,\n",
       "  'prob': 0.11799247362642523,\n",
       "  'rank': 2,\n",
       "  'score': 11.045479774475098,\n",
       "  'text': '|Title 2 Fundamental Rights, Citizenship and Social Goals|Chapter 1 Fundamental Rights||Art. 18 Freedom to use any language|The freedom to use any language is guaranteed.'},\n",
       " {'pid': 22,\n",
       "  'prob': 0.11799247362642523,\n",
       "  'rank': 3,\n",
       "  'score': 11.045479774475098,\n",
       "  'text': '|Title 2 Fundamental Rights, Citizenship and Social Goals|Chapter 1 Fundamental Rights||Art. 18 Freedom to use any language|The freedom to use any language is guaranteed.'}]"
      ]
     },
     "execution_count": 36,
     "metadata": {},
     "output_type": "execute_result"
    }
   ],
   "source": [
    "topk"
   ]
  },
  {
   "cell_type": "code",
   "execution_count": 37,
   "id": "5966c960",
   "metadata": {},
   "outputs": [
    {
     "data": {
      "text/plain": [
       "['English is not an official language of the Swiss Confederation. This translation is provided for information purposes only and has no legal force. Federal Constitution  of the Swiss Confederation  of 18 April 1999 (Status as of 13 February 2022)  Preamble In the name of Almighty God! The Swiss People and the Cantons, mindful of their responsibility towards creation, resolved to renew their alliance so as to strengthen liberty, democracy, independence and peace in a spirit of solidarity and openness towards the world, determined to live together with mutual consideration and respect for their diversity, conscious of their common achievements and their responsibility towards future ge-nerations, and in the knowledge that only those who use their freedom remain free, and that the strength of a people is measured by the well-being of its weakest members, adopt the following Constitution1:',\n",
       " '|Title 2 Fundamental Rights, Citizenship and Social Goals|Chapter 1 Fundamental Rights||Art. 18 Freedom to use any language|The freedom to use any language is guaranteed.',\n",
       " '|Title 2 Fundamental Rights, Citizenship and Social Goals|Chapter 1 Fundamental Rights||Art. 18 Freedom to use any language|The freedom to use any language is guaranteed.']"
      ]
     },
     "execution_count": 37,
     "metadata": {},
     "output_type": "execute_result"
    }
   ],
   "source": [
    "topk_text"
   ]
  },
  {
   "cell_type": "markdown",
   "id": "3ae8cef6",
   "metadata": {},
   "source": [
    "The search API returns plenty of information! Looking at the output we get the initial query. Looking at the topk (which is part of the output), we get:\n",
    "- The rank\n",
    "- The score and the probability\n",
    "- The text\n",
    "\n",
    "From this we can extract the results, which we have put in a list of passages, ranked by relevance.\n",
    "\n",
    "Let's analyze the output. We have asked if it is legal to speak Spanish. The search returns language-related passages, which is in my view fantastic! There is no mention of Spanish in the Swiss constitution, so any keyword based search would already fail at this stage. Since ColBERTv2 is semantic based, it is able to link language-related words to our query. Let's look closely at these passages. The first one is a generic warning that the text is a translation of the official constitution into English, but has no legal validity. This passage will not answer our question! The second passage mentions the \"freedom to use any language\". This is the relevant passage that will allow to answer our qestion!\n",
    "\n",
    "Looking ahead: the DSP framework will ask the LLM to answer our questions, based on the passages that we will inject into the prompts. If we inject these passages, we have a good chance that the LLM will be able to answer our question. We will see it later.\n",
    "\n",
    "If you read this article without trying yourself, you cannot feel the speed of this algorithm. Let's try it out."
   ]
  },
  {
   "cell_type": "code",
   "execution_count": 51,
   "id": "b3894fee",
   "metadata": {},
   "outputs": [
    {
     "name": "stdout",
     "output_type": "stream",
     "text": [
      "Duration per query: 2.767 milliseconds\n"
     ]
    }
   ],
   "source": [
    "import time\n",
    "query=\"Is it legal to speak Spanish?\" # Your question to the document\n",
    "k=3 # The API returns the top k most relevant entries\n",
    "\n",
    "payload = {\"query\": query, \"k\": k} # The content that we push to the API\n",
    "\n",
    "start_time = time.time()\n",
    "for trials in range(1000):\n",
    "    result = requests.get(colbert_server, params=payload) # What the API returns\n",
    "    output = result.json()\n",
    "    topk = output['topk'][:k] # Extracting the result\n",
    "    topk_text = [k['text'] for k in topk] # Extracting the text only\n",
    "end_time = time.time()\n",
    "duration = end_time - start_time\n",
    "print(f\"Duration per query: {duration/1000*1000:.3f} milliseconds\")"
   ]
  },
  {
   "cell_type": "markdown",
   "id": "04c63b7c",
   "metadata": {},
   "source": [
    "We can say that this is rather fast! How is it possible to get a semantic search that is so fast? This has to do with the approach. The method is based on BERT, however, at inference time (at time of search), only the query has to be encoded by the BERT algorithm. The passages have been encoded by BERT at time of indexing (which happens only once), not at time of inference. How is it then possible to still have a BERT-based search algorithm? This is because of late interactions. The embedding of every single token that comes out of BERT is used, for both the query and the passages. These embedding are \"compared\" with a very simple algorithm (just additions and multiplications). These \"comparisons\" are called \"late interactions\", because they occur late in the encoding process (after the tokens have gone through all the transformers of BERT). How can the comparison be done between the query and all the (potentially million of) passages? The way the passages are stored makes this algorithm faster: instead of going through each passages, the algorithm can afford to go through only selected passages, because, remember, these are organized as clusters. ColBERTv2 is part of the family of models called late interaction.\n",
    "\n",
    "__This algorithm provides us with the best of both worlds: state-of-the-art semantic search at top speed!__\n",
    "\n",
    "There are alternatives search algorithms. One algorithm which is very popular is a \"passage embedding\" (for example the ADA embeddings from OpenAI). These algorithms are very well integrated with popular frameworks like Langchain, and are also well integrated with vector databases like Pinecone.\n",
    "\n",
    "I have used both search algorithms, and my (subjective) impression is that late interaction models work much better than passage embeddings. The interpretation I give to this observation is that late interaction models look at each single word (more precisely: token), while passage embedding looks at a passage as a whole. The much deeper granularity of late interaction models can act very positively on the quality of the search. Unfortunately I have no evidence to support my impression, so I will keep it as a \"subjective\" impression! But I would love to hear quantitative comparisons, if you know of any."
   ]
  },
  {
   "cell_type": "markdown",
   "id": "b13c9ef8",
   "metadata": {},
   "source": [
    "## The DSP (Demonstrate-Search-Predict) framework"
   ]
  },
  {
   "cell_type": "markdown",
   "id": "5f20324f",
   "metadata": {},
   "source": [
    "We have now a search engine. As a next step, we want to use this search engine to feed an LLM, so that the LLM will be able to answer our questions. What do we need for this? First, we need to ask a question (a \"query\"). Then we need a search engine that returns the most relevant passages of a text. We have it, from above. Then we need to integrate it into a framework, that is Stanford's DSP framewok (https://arxiv.org/abs/2212.14024). How does it work? The idea is to have a framework that feeds an LLM so that we get the desired answer to our questions.\n",
    "\n",
    "The DSP framework will need to have:\n",
    "- A search engine (information retrieval)\n",
    "- An LLM\n",
    "\n",
    "We will provide dsp with these two objects.\n",
    "\n",
    "The DSP framework need to be fed with examples, and a question. These will be used to build a prompt. The examples, which are question-answer pairs, will be used to build examples in the prompt. The question will be used to get passages from the search engine. These passages will be injected to the prompt as context.\n",
    "\n",
    "Let's have a closer look how this works, continuing with our example. We will first initialize the dsp engine. Then we will build a template. This is done with an object \"Template\", that is feed with objects \"Type\". \"Types\" are for example questions, answers, or contexts. More detailed examples are provided in the DSP GitHub repo (https://github.com/stanfordnlp/dsp)."
   ]
  },
  {
   "cell_type": "code",
   "execution_count": 52,
   "id": "d0aacf16",
   "metadata": {},
   "outputs": [],
   "source": [
    "import os\n",
    "import dsp # If not already downloaded: \"pip install dsp-ml\"\n",
    "\n",
    "colbert_server = 'http://127.0.0.1:8893/api/search' # You might have a different URL!\n",
    "\n",
    "# Define Language Model (lm) and Retrieval model (rm)\n",
    "lm = dsp.GPT3(model='text-davinci-002', api_key='YOU_API_KEY')\n",
    "rm = dsp.ColBERTv2(url=colbert_server)\n",
    "\n",
    "dsp.settings.configure(lm=lm, rm=rm)"
   ]
  },
  {
   "cell_type": "markdown",
   "id": "92291c09",
   "metadata": {},
   "source": [
    "Let's build the template with various building blocks:"
   ]
  },
  {
   "cell_type": "code",
   "execution_count": 82,
   "id": "7600abea",
   "metadata": {},
   "outputs": [],
   "source": [
    "# Provide instructions, questions, answers\n",
    "Instructions = \"Answer questions in one paragraph.\"\n",
    "\n",
    "# Provide questions and answers\n",
    "Question = dsp.Type(prefix=\"Question:\", desc=\"${the question to be answered}\")\n",
    "Answer = dsp.Type(prefix=\"Answer:\", desc=\"${an answer, with explanations}\", format=dsp.format_answers)\n",
    "\n",
    "# Provide the context\n",
    "Context = dsp.Type(\n",
    "    prefix=\"Context:\\n\",\n",
    "    desc=\"${sources that may contain relevant content}\",\n",
    "    format=dsp.passages2text\n",
    ")\n",
    "\n",
    "# Provide a rationale\n",
    "Rationale = dsp.Type(\n",
    "    prefix=\"Rationale: Let's think step by step. Justify your answer.\",\n",
    "    desc=\"${a step-by-step deduction that identifies the correct response, which will be provided below}\"\n",
    ")\n",
    "\n",
    "# Build the template with all these ingredients\n",
    "qa_template = dsp.Template(instructions=Instructions, context=Context(), question=Question(), rationale=Rationale(), answer=Answer())"
   ]
  },
  {
   "cell_type": "markdown",
   "id": "9d0012eb",
   "metadata": {},
   "source": [
    "Let's build a function that will:\n",
    "- Take a question as input\n",
    "- Retrieve the relevant passages from the document\n",
    "- Ask the LLM to answer the question, based on the retrieved passages"
   ]
  },
  {
   "cell_type": "code",
   "execution_count": 121,
   "id": "71671055",
   "metadata": {},
   "outputs": [],
   "source": [
    "def QA_predict(example: dsp.Example):\n",
    "    example, completions = dsp.generate(qa_template)(example, stage='qa')  \n",
    "    return example.copy(answer=completions.answer)\n",
    "\n",
    "def retrieve_then_read_QA(question: str, qa_pairs: list = []) -> str:\n",
    "    demos = dsp.sample(qa_pairs, k=8)\n",
    "    passages = dsp.retrieve(question, k=5)\n",
    "    example = dsp.Example(question=question, context=passages, demos=demos)    \n",
    "    return QA_predict(example).answer"
   ]
  },
  {
   "cell_type": "code",
   "execution_count": 122,
   "id": "9701fd95",
   "metadata": {},
   "outputs": [
    {
     "data": {
      "text/plain": [
       "'Yes, it is legal to speak Spanish. Article 18 of the Swiss Constitution guarantees the freedom to use any language.'"
      ]
     },
     "execution_count": 122,
     "metadata": {},
     "output_type": "execute_result"
    }
   ],
   "source": [
    "question = \"Is it legal to speak Spanish?\"\n",
    "retrieve_then_read_QA(question)"
   ]
  },
  {
   "cell_type": "markdown",
   "id": "f555cb68",
   "metadata": {},
   "source": [
    "It is pretty cool, no? We can also \"look inside\" and see what has happened in the back-end. This is done with the inspect methods of the LLM, which logs what the LLM has done:"
   ]
  },
  {
   "cell_type": "code",
   "execution_count": 86,
   "id": "560606b9",
   "metadata": {},
   "outputs": [
    {
     "name": "stdout",
     "output_type": "stream",
     "text": [
      "\n",
      "\n",
      "\n",
      "\n",
      "Answer questions in one paragraph.\n",
      "\n",
      "---\n",
      "\n",
      "Follow the following format.\n",
      "\n",
      "Context:\n",
      "${sources that may contain relevant content}\n",
      "\n",
      "Question: ${the question to be answered}\n",
      "\n",
      "Rationale: Let's think step by step. Justify your answer. ${a step-by-step deduction that identifies the correct response, which will be provided below}\n",
      "\n",
      "Answer: ${an answer, with explanations}\n",
      "\n",
      "---\n",
      "\n",
      "Context:\n",
      "[1] «English is not an official language of the Swiss Confederation. This translation is provided for information purposes only and has no legal force. Federal Constitution  of the Swiss Confederation  of 18 April 1999 (Status as of 13 February 2022)  Preamble In the name of Almighty God! The Swiss People and the Cantons, mindful of their responsibility towards creation, resolved to renew their alliance so as to strengthen liberty, democracy, independence and peace in a spirit of solidarity and openness towards the world, determined to live together with mutual consideration and respect for their diversity, conscious of their common achievements and their responsibility towards future ge-nerations, and in the knowledge that only those who use their freedom remain free, and that the strength of a people is measured by the well-being of its weakest members, adopt the following Constitution1:»\n",
      "[2] «|Title 2 Fundamental Rights, Citizenship and Social Goals|Chapter 1 Fundamental Rights||Art. 18 Freedom to use any language|The freedom to use any language is guaranteed.»\n",
      "[3] «|Title 2 Fundamental Rights, Citizenship and Social Goals|Chapter 1 Fundamental Rights||Art. 18 Freedom to use any language|The freedom to use any language is guaranteed.»\n",
      "[4] «|Title 2 Fundamental Rights, Citizenship and Social Goals|Chapter 1 Fundamental Rights||Art. 18 Freedom to use any language|The freedom to use any language is guaranteed.»\n",
      "[5] «|Title 2 Fundamental Rights, Citizenship and Social Goals|Chapter 1 Fundamental Rights||Art. 18 Freedom to use any language|The freedom to use any language is guaranteed.»\n",
      "\n",
      "Question: Is it legal to speak Spanish?\n",
      "\n",
      "Rationale: Let's think step by step. Justify your answer. Answer: Yes, it is legal to speak Spanish. Article 18 of the Swiss Constitution guarantees the freedom to use any language.\n",
      "\n",
      "Answer:\u001b[32m\n",
      "\n",
      "Yes, it is legal to speak Spanish. Article 18 of the Swiss Constitution guarantees the freedom to use any language.\u001b[0m\n",
      "\n",
      "\n",
      "\n"
     ]
    }
   ],
   "source": [
    "lm.inspect_history(n=1)"
   ]
  },
  {
   "cell_type": "markdown",
   "id": "e96dfb7e",
   "metadata": {},
   "source": [
    "Let's summarize what we have done: we asked a question, retrieved relevant passages to our question, injected these into an LLM, and let the LLM answer the question. We are using the S-Search and P-Predict of the DSP framework. Let's look at how to use the D-Demonstrate part. In our case it works well without examples, but let's still add them. This should allow us to better format the answer."
   ]
  },
  {
   "cell_type": "code",
   "execution_count": 113,
   "id": "a1d6b079",
   "metadata": {},
   "outputs": [],
   "source": [
    "qa_pairs = [(\"Who is responsible to build highways?\", ['The Confederation is responsible to build highways (Article 83).']),\n",
    "         (\"Do women have equal rights?\", [\"Yes, women have equal rights (Article 8).\"]),\n",
    "         (\"What are the national languages?\", [\"The National Languages are German, French, Italian, and Romansh (Article 4).\"]),\n",
    "         (\"Are citizen of any commune also Swiss citizen?\", [\"Yes, Swiss citizenship is granted to any person who is a citizen of a commune and of the Canton to which that commune belongs (Article 37).\"]),\n",
    "         (\"What is the confederation's role regarding research?\", [\"The confederation's role in research is to promote scientific research and innovation and to establish, take over, or run research institutes (Article 64).\"]),\n",
    "         (\"Who is responsible for the protection of the cultural heritage?\", [\"The Cantons are responsible for the protection of the cultural heritage (Article 78).\"]),\n",
    "         (\"Who is responsible for the public transport?\", [\"The Confederation and the Cantons are responsible for the public transport (Article 81).\"]),\n",
    "         (\"Who is responsible for the legislation around nuclear energy?\", [\"The Confederation is responsible for legislation in the field of nuclear energy (Article 90).\"])]\n",
    "\n",
    "qa_pairs = [dsp.Example(question=question, answer=answer) for question, answer in qa_pairs]"
   ]
  },
  {
   "cell_type": "code",
   "execution_count": 117,
   "id": "ea316488",
   "metadata": {},
   "outputs": [
    {
     "data": {
      "text/plain": [
       "'Both the Confederation and the Cantons have a responsibility to provide assistance to elderly or disabled people.'"
      ]
     },
     "execution_count": 117,
     "metadata": {},
     "output_type": "execute_result"
    }
   ],
   "source": [
    "question = \"Who should provide assistance to elderly or disabled people?\"\n",
    "qa_pairs = qa_pairs\n",
    "retrieve_then_read_QA(question, qa_pairs)"
   ]
  },
  {
   "cell_type": "code",
   "execution_count": 118,
   "id": "aa35b935",
   "metadata": {},
   "outputs": [
    {
     "name": "stdout",
     "output_type": "stream",
     "text": [
      "\n",
      "\n",
      "\n",
      "\n",
      "Answer questions in one paragraph.\n",
      "\n",
      "---\n",
      "\n",
      "Question: What is the confederation's role regarding research?\n",
      "Answer: The confederation's role in research is to promote scientific research and innovation and to establish, take over, or run research institutes (Article 64).\n",
      "\n",
      "Question: Do women have equal rights?\n",
      "Answer: Yes, women have equal rights (Article 8).\n",
      "\n",
      "Question: Who is responsible for the protection of the cultural heritage?\n",
      "Answer: The Cantons are responsible for the protection of the cultural heritage (Article 78).\n",
      "\n",
      "Question: What are the national languages?\n",
      "Answer: The National Languages are German, French, Italian, and Romansh (Article 4).\n",
      "\n",
      "Question: Who is responsible to build highways?\n",
      "Answer: The Confederation is responsible to build highways (Article 83).\n",
      "\n",
      "Question: Are citizen of any commune also Swiss citizen?\n",
      "Answer: Yes, Swiss citizenship is granted to any person who is a citizen of a commune and of the Canton to which that commune belongs (Article 37).\n",
      "\n",
      "Question: Who is responsible for the legislation around nuclear energy?\n",
      "Answer: The Confederation is responsible for legislation in the field of nuclear energy (Article 90).\n",
      "\n",
      "Question: Who is responsible for the public transport?\n",
      "Answer: The Confederation and the Cantons are responsible for the public transport (Article 81).\n",
      "\n",
      "---\n",
      "\n",
      "Follow the following format.\n",
      "\n",
      "Context:\n",
      "${sources that may contain relevant content}\n",
      "\n",
      "Question: ${the question to be answered}\n",
      "\n",
      "Rationale: Let's think step by step. Justify your answer. ${a step-by-step deduction that identifies the correct response, which will be provided below}\n",
      "\n",
      "Answer: ${an answer, with explanations}\n",
      "\n",
      "---\n",
      "\n",
      "Context:\n",
      "[1] «|Title 3 Confederation, Cantons and Communes|Chapter 2 Powers|Section 8 Housing, Employment, Social Security and Health|Art. 112 c  Aid for elderly people and people with disabilities|1 The Cantons shall provide for assistance and care in the home for elderly people and people with disabilities. 2 The Confederation shall support national efforts for the benefit of elderly people and people with disabilities. For this purpose, it may use resources from the Old-age, Sur-vivors and Invalidity Insurance.»\n",
      "[2] «|Title 3 Confederation, Cantons and Communes|Chapter 2 Powers|Section 8 Housing, Employment, Social Security and Health|Art. 111 Old-age, survivors’ and invalidity pension provision|1 The Confederation shall take measures to ensure adequate financial provision for the elderly, surviving spouses and children, and persons with disabilities. These shall be based on three pillars, namely the Federal Old-age, Survivors’ and Invalidity Insur-ance, the occupational pension scheme and private pension schemes. 2 The Confederation shall ensure that the Federal Old-age, Survivors’ and Invalidity Insurance and the occupational pension scheme are able to fulfil their purpose at all times. 3 It may require the Cantons to exempt institutions of the Federal Old-age, Survivors’ and Invalidity Insurance and the occupational pension scheme from liability to pay tax and to grant insured persons and their employers tax relief on contributions and reversionary rights. 4 In cooperation with the Cantons, it shall encourage private pension schemes, in par-ticular through measures relating to taxation policy and the policy of promoting prop-erty ownership.»\n",
      "[3] «|Title 2 Fundamental Rights, Citizenship and Social Goals|Chapter 1 Fundamental Rights||Art. 12 Right to assistance when in need|Persons in need and unable to provide for themselves have the right to assistance and care, and to the financial means required for a decent standard of living.»\n",
      "[4] «|Title 3 Confederation, Cantons and Communes|Chapter 2 Powers|Section 8 Housing, Employment, Social Security and Health|Art. 112 b  Promoting the rehabilitation of people eligible for invalidity|benefits1 The Confederation shall encourage the rehabilitation of people eligible for invalidity benefits by providing cash and non-cash benefits. For this purpose, it may use re-sources from the Invalidity Insurance. 2 The Cantons shall encourage the rehabilitation of people eligible for invalidity ben-efits, in particular through contributions to the construction and running of institutions that provide accommodation and work. 3 The law determines the goals of rehabilitation and the principles and criteria. 52 Adopted by the popular vote on 28 Nov. 2004, in force since 1 Jan. 2008 (FCD of 3 Oct. 2003, FCD of 26 Jan. 2005, FCD of 7 Nov. 2007; AS 2007 5765; BBl 2002 2291, 2003 6591, 2005 951). 53 Adopted by the popular vote on 28 Nov. 2004, in force since 1 Jan. 2008 (FCD of 3 Oct. 2003, FCD of 26 Jan. 2005, FCD of 7 Nov. 2007; AS 2007 5765; BBl 2002 2291, 2003 6591, 2005 951). 54 Repealed by the popular vote on 28 Nov. 2004, with effect from 1 Jan. 2008 (FCD of  3 Oct 2003, FCD of 26 Jan. 2005, FCD of 7 Nov. 2007; AS 2007 5765; BBl 2002 2291, 2003 6591, 2005 951). 55 Adopted by the popular vote on 28 Nov. 2004, in force since 1 Jan. 2008 (FCD of 3 Oct. 2003, FCD of 26 Jan. 2005, FCD of 7 Nov. 2007; AS 2007 5765; BBl 2002 2291,»\n",
      "[5] «|Title 3 Confederation, Cantons and Communes|Chapter 2 Powers|Section 8 Housing, Employment, Social Security and Health|Art. 112 a  Supplementary benefits|1 Confederation and Cantons shall pay supplementary benefits to people whose basic living expenses are not covered by benefits under the Old-age, Survivors and Invalid-ity Insurance. 2 The law determines the extent of the supplementary benefits as well as the tasks and responsibilities of the Confederation and Cantons.»\n",
      "\n",
      "Question: Who should provide assistance to elderly or disabled people?\n",
      "\n",
      "Rationale: Let's think step by step. Justify your answer. The question asks who should provide assistance to elderly or disabled people. The answer can be found by looking at Articles 111, 112, and 12 of the Swiss Constitution. Article 111 states that the Confederation shall take measures to ensure adequate financial provision for the elderly, surviving spouses and children, and persons with disabilities. Article 112 states that the Cantons shall provide for assistance and care in the home for elderly people and people with disabilities. Article 12 states that persons in need and unable to provide for themselves have the right to assistance and care, and to the financial means required for a decent standard of living. Based on these articles, it can be deduced that both the Confederation and the Cantons have a responsibility to provide assistance to elderly or\n",
      "\n",
      "Answer:\u001b[32m Both the Confederation and the Cantons have a responsibility to provide assistance to elderly or disabled people.\u001b[0m\n",
      "\n",
      "\n",
      "\n"
     ]
    }
   ],
   "source": [
    "lm.inspect_history(n=1)"
   ]
  },
  {
   "cell_type": "markdown",
   "id": "508e56c3",
   "metadata": {},
   "source": [
    "Unfortunately, adding these examples did not change much to the output format! But in other cases, adding examples might help a lot."
   ]
  },
  {
   "cell_type": "markdown",
   "id": "9e5bc770",
   "metadata": {},
   "source": [
    "## Conclusion"
   ]
  },
  {
   "cell_type": "markdown",
   "id": "1857b78b",
   "metadata": {},
   "source": [
    "In this article we have gone through the DSP framework and illustrated it with a concrete example, that we have developed in detail. The goal is to illustrate the use of this framework for a document, which means applying the DSP framework to a \"document understanding\" use case. And it works very well!\n",
    "\n",
    "We have used only very limited possibilities of the DSP framework. In the DSP GitHub repo (https://github.com/stanfordnlp/dsp), you can find much more sophisticated uses of it. For example, you can build algorithms that will ask several questions and iteratively retrieve information from passages. But in our simple case this is not needed, so I have skipped it.\n",
    "\n",
    "Note that there are still limitations to this framework. For example, the retriever was trained on English texts only, and on specific domain datasets. A lot of value could be added if the retriever were trained in other languages, and if it were trained on other domains, that are specific, for example, to your enterprise. We see a lot of potential for this!\n",
    "\n",
    "Finally, the DSP framework, as well as the framework Langchain, opens many new possibilities: you can now \"program in English\", and not only in Python!\n",
    "\n",
    "Thanks for reading this document through! I hope you enjoyed it, and have already ideas of where to apply this \"document understanding\" use case, or more generally the DSP framework. I have nothing to sell, I am just happy to share my knowledge :-)\n",
    "\n",
    "Before concluding, I would like to thank the Stanford University and Omar Khattab for making these great new developments, and for making them open source! I would also like to thank Omar for his availability and responsiveness!"
   ]
  }
 ],
 "metadata": {
  "kernelspec": {
   "display_name": "Python 3 (ipykernel)",
   "language": "python",
   "name": "python3"
  },
  "language_info": {
   "codemirror_mode": {
    "name": "ipython",
    "version": 3
   },
   "file_extension": ".py",
   "mimetype": "text/x-python",
   "name": "python",
   "nbconvert_exporter": "python",
   "pygments_lexer": "ipython3",
   "version": "3.9.13"
  }
 },
 "nbformat": 4,
 "nbformat_minor": 5
}
